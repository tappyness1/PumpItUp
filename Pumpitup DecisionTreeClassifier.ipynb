{
 "cells": [
  {
   "cell_type": "markdown",
   "metadata": {},
   "source": [
    "# Classifying using Decision Tree Classifier with Multiple Features\n",
    "\n",
    "Used Decision Tree Classifier to classify the status of water pumps.\n",
    "\n",
    "This was done while adding multiple features to learn. \n",
    "\n",
    "This build gave me 0.6086 classification rate.\n",
    "\n",
    "Using Decision Tree Classifier is preferred to Linear SVC as 1) DTC is built in Multiclass & 2) DTC works better with larger (>1000) sample size"
   ]
  },
  {
   "cell_type": "code",
   "execution_count": 8,
   "metadata": {
    "collapsed": true
   },
   "outputs": [],
   "source": [
    "import matplotlib\n",
    "import pandas as pd\n",
    "import numpy as np\n",
    "from pandas import DataFrame\n",
    "from pandas import ExcelWriter\n",
    "import matplotlib.pyplot as plt\n",
    "import seaborn as sns\n",
    "from sklearn import linear_model\n",
    "from sklearn import tree"
   ]
  },
  {
   "cell_type": "code",
   "execution_count": 9,
   "metadata": {
    "collapsed": true
   },
   "outputs": [],
   "source": [
    "featuresdf = pd.read_csv(\"TrainingSetValues.csv\")\n",
    "labelsdf = pd.read_csv(\"TrainingSetLabels.csv\")\n",
    "testfeaturesdf = pd.read_csv(\"TestSetValues.csv\")\n",
    "submission = pd.read_csv(\"SubmissionFormat.csv\")"
   ]
  },
  {
   "cell_type": "code",
   "execution_count": 10,
   "metadata": {
    "collapsed": true
   },
   "outputs": [],
   "source": [
    "featuresdf['status_group'] = labelsdf['status_group'].values\n",
    "yvals = []\n",
    "for i in featuresdf['status_group'].unique():\n",
    "    s = i.replace(' ', '_')\n",
    "    yvals.append(s)\n",
    "    featuresdf[s] = pd.get_dummies(featuresdf['status_group'])[i]\n",
    "\n",
    "f = featuresdf['status_group'].unique()\n",
    "def relabel(row):\n",
    "    for i in range(len(f)):\n",
    "        if row['status_group'] == f[i]:\n",
    "            return i\n",
    "featuresdf['status_group_relabel'] = featuresdf.apply(lambda row: relabel(row), axis = 1)"
   ]
  },
  {
   "cell_type": "code",
   "execution_count": 11,
   "metadata": {
    "collapsed": true
   },
   "outputs": [],
   "source": [
    "X = featuresdf[['amount_tsh', 'population', 'num_private', 'construction_year']]\n",
    "y = np.array(featuresdf['status_group_relabel'])\n",
    "yre = y.reshape(-1,1)\n",
    "x = testfeaturesdf[['amount_tsh', 'population', 'num_private', 'construction_year']]"
   ]
  },
  {
   "cell_type": "markdown",
   "metadata": {},
   "source": [
    "Make prediction model - Decision Tree Classifier"
   ]
  },
  {
   "cell_type": "code",
   "execution_count": 12,
   "metadata": {
    "collapsed": true
   },
   "outputs": [],
   "source": [
    "output2 = tree.DecisionTreeClassifier(min_samples_leaf = 100).fit(X, yre).predict(x)"
   ]
  },
  {
   "cell_type": "markdown",
   "metadata": {},
   "source": [
    "Relabel and save to file for submission"
   ]
  },
  {
   "cell_type": "code",
   "execution_count": 13,
   "metadata": {
    "collapsed": true
   },
   "outputs": [],
   "source": [
    "relabel = []\n",
    "for i in output2:\n",
    "    if i == 0:\n",
    "        relabel.append(\"functional\")\n",
    "    elif i == 1:\n",
    "        relabel.append(\"non functional\")\n",
    "    elif i == 2:\n",
    "        relabel.append(\"functional needs repair\")\n",
    "        \n",
    "submission['status_group'] = relabel\n",
    "submission.to_csv('test.csv', sep = ',', index = False)"
   ]
  }
 ],
 "metadata": {
  "kernelspec": {
   "display_name": "Python 3",
   "language": "python",
   "name": "python3"
  },
  "language_info": {
   "codemirror_mode": {
    "name": "ipython",
    "version": 3
   },
   "file_extension": ".py",
   "mimetype": "text/x-python",
   "name": "python",
   "nbconvert_exporter": "python",
   "pygments_lexer": "ipython3",
   "version": "3.6.1"
  }
 },
 "nbformat": 4,
 "nbformat_minor": 2
}
