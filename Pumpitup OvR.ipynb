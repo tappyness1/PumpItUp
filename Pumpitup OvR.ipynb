{
 "cells": [
  {
   "cell_type": "markdown",
   "metadata": {},
   "source": [
    "# Classifying using OvR Classifier\n",
    "\n",
    "Used OvR Classifier to classify the status of water pumps.\n",
    "This gave me a hit rate of 54% upon submission.\n",
    "However, the classification was all \"functional\"\n"
   ]
  },
  {
   "cell_type": "code",
   "execution_count": null,
   "metadata": {
    "collapsed": true
   },
   "outputs": [],
   "source": [
    "import matplotlib\n",
    "import pandas as pd\n",
    "import numpy as np\n",
    "from pandas import DataFrame\n",
    "from pandas import ExcelWriter\n",
    "import matplotlib.pyplot as plt\n",
    "import seaborn as sns\n",
    "from sklearn import linear_model\n",
    "from sklearn.svm import LinearSVC\n",
    "from sklearn.multiclass import OneVsRestClassifier"
   ]
  },
  {
   "cell_type": "code",
   "execution_count": null,
   "metadata": {
    "collapsed": true
   },
   "outputs": [],
   "source": [
    "featuresdf = pd.read_csv(\"TrainingSetValues.csv\")\n",
    "labelsdf = pd.read_csv(\"TrainingSetLabels.csv\")\n",
    "testfeaturesdf = pd.read_csv(\"TestSetValues.csv\")\n",
    "submission = pd.read_csv(\"SubmissionFormat.csv\")"
   ]
  },
  {
   "cell_type": "code",
   "execution_count": null,
   "metadata": {
    "collapsed": true
   },
   "outputs": [],
   "source": [
    "featuresdf['status_group'] = labelsdf['status_group'].values\n",
    "yvals = []\n",
    "for i in featuresdf['status_group'].unique():\n",
    "    s = i.replace(' ', '_')\n",
    "    yvals.append(s)\n",
    "    featuresdf[s] = pd.get_dummies(featuresdf['status_group'])[i]\n",
    "\n",
    "f = featuresdf['status_group'].unique()\n",
    "def relabel(row):\n",
    "    for i in range(len(f)):\n",
    "        if row['status_group'] == f[i]:\n",
    "            return i\n",
    "featuresdf['status_group_relabel'] = featuresdf.apply(lambda row: relabel(row), axis = 1)"
   ]
  },
  {
   "cell_type": "code",
   "execution_count": null,
   "metadata": {
    "collapsed": true
   },
   "outputs": [],
   "source": [
    "X = np.array(featuresdf['amount_tsh'])\n",
    "Xre = X.reshape(-1,1)\n",
    "y = np.array(featuresdf['status_group_relabel'])\n",
    "yre = y.reshape(-1,1)\n",
    "x = np.array(testfeaturesdf['amount_tsh'])\n",
    "xre = x.reshape(-1,1)"
   ]
  },
  {
   "cell_type": "code",
   "execution_count": null,
   "metadata": {
    "collapsed": true
   },
   "outputs": [],
   "source": [
    "output2 = OneVsRestClassifier(LinearSVC(random_state=0)).fit(Xre, yre).predict(xre)\n",
    "\n",
    "good = 0\n",
    "for i in range(len(output)):\n",
    "    if output[i] == yre[i]:\n",
    "        good += 1\n",
    "        \n",
    "accuracy = good/len(output)"
   ]
  },
  {
   "cell_type": "markdown",
   "metadata": {},
   "source": [
    "Relabel and save to file for submission"
   ]
  },
  {
   "cell_type": "code",
   "execution_count": null,
   "metadata": {
    "collapsed": true
   },
   "outputs": [],
   "source": [
    "relabel = []\n",
    "for i in output2:\n",
    "    if i == 0:\n",
    "        relabel.append(\"functional\")\n",
    "    elif i == 1:\n",
    "        relabel.append(\"non functional\")\n",
    "    elif i == 2:\n",
    "        relabel.append(\"functional needs repair\")\n",
    "        \n",
    "submission['status_group'] = relabel\n",
    "submission.to_csv('test.csv', sep = ',', index = False)"
   ]
  }
 ],
 "metadata": {
  "kernelspec": {
   "display_name": "Python 3",
   "language": "python",
   "name": "python3"
  },
  "language_info": {
   "codemirror_mode": {
    "name": "ipython",
    "version": 3
   },
   "file_extension": ".py",
   "mimetype": "text/x-python",
   "name": "python",
   "nbconvert_exporter": "python",
   "pygments_lexer": "ipython3",
   "version": "3.6.1"
  }
 },
 "nbformat": 4,
 "nbformat_minor": 2
}
