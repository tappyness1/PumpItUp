{
 "cells": [
  {
   "cell_type": "markdown",
   "metadata": {},
   "source": [
    "# Loading up modules and dataset"
   ]
  },
  {
   "cell_type": "code",
   "execution_count": 1,
   "metadata": {},
   "outputs": [],
   "source": [
    "import matplotlib\n",
    "import pandas as pd\n",
    "import numpy as np\n",
    "from pandas import DataFrame\n",
    "from pandas import ExcelWriter\n",
    "import matplotlib.pyplot as plt\n",
    "import seaborn as sns\n",
    "import statsmodels.api as sm\n",
    "import statsmodels.formula.api as smf\n",
    "import statsmodels.stats.multicomp as multi\n",
    "import statistics\n",
    "from sklearn import linear_model\n",
    "\n",
    "featuresdf = pd.read_csv(\"TrainingSetValues.csv\")\n",
    "labelsdf = pd.read_csv(\"TrainingSetLabels.csv\")"
   ]
  },
  {
   "cell_type": "markdown",
   "metadata": {},
   "source": [
    "# Data Cleaning "
   ]
  },
  {
   "cell_type": "code",
   "execution_count": 2,
   "metadata": {},
   "outputs": [],
   "source": [
    "featuresdf['status_group'] = labelsdf['status_group'].values\n",
    "yvals = []\n",
    "for i in featuresdf['status_group'].unique():\n",
    "    s = i.replace(' ', '_')\n",
    "    yvals.append(s)\n",
    "    featuresdf[s] = pd.get_dummies(featuresdf['status_group'])[i]\n",
    "\n",
    "    \n",
    "# f = featuresdf['status_group'].unique()\n",
    "# def relabel(row):\n",
    "#     for i in range(len(f)):\n",
    "#         if row['status_group'] == f[i]:\n",
    "#             return i\n",
    "# featuresdf['status_group_relabel'] = featuresdf.apply(lambda row: relabel(row), axis = 1)\n",
    "\n",
    "\n",
    "\n"
   ]
  },
  {
   "cell_type": "markdown",
   "metadata": {},
   "source": [
    "# Pivot Table for the 3Ms and Plotting"
   ]
  },
  {
   "cell_type": "code",
   "execution_count": 3,
   "metadata": {},
   "outputs": [
    {
     "data": {
      "image/png": "[encoded data removed]",
      "text/plain": [
       "<matplotlib.figure.Figure at 0x16a60fb0dd8>"
      ]
     },
     "metadata": {},
     "output_type": "display_data"
    }
   ],
   "source": [
    "# do a table for status group and show the mean population\n",
    "pivot1 = featuresdf.pivot_table(index=\"status_group\",values=[\"amount_tsh\",\"population\", \"gps_height\"],aggfunc=[np.mean,np.median,statistics.mode])\n",
    "\n",
    "ax = pivot1.plot.bar(rot = 0)\n",
    "plt.show()"
   ]
  },
  {
   "cell_type": "markdown",
   "metadata": {},
   "source": [
    "# Run Logit for each dummy variable"
   ]
  },
  {
   "cell_type": "code",
   "execution_count": 4,
   "metadata": {},
   "outputs": [
    {
     "name": "stdout",
     "output_type": "stream",
     "text": [
      "Optimization terminated successfully.\n",
      "         Current function value: 0.683368\n",
      "         Iterations 7\n",
      "                           Logit Regression Results                           \n",
      "==============================================================================\n",
      "Dep. Variable:             functional   No. Observations:                59400\n",
      "Model:                          Logit   Df Residuals:                    59397\n",
      "Method:                           MLE   Df Model:                            2\n",
      "Date:                Mon, 04 Dec 2017   Pseudo R-squ.:                0.008793\n",
      "Time:                        10:05:18   Log-Likelihood:                -40592.\n",
      "converged:                       True   LL-Null:                       -40952.\n",
      "                                        LLR p-value:                4.031e-157\n",
      "==============================================================================\n",
      "                 coef    std err          z      P>|z|      [0.025      0.975]\n",
      "------------------------------------------------------------------------------\n",
      "Intercept      0.1022      0.009     11.164      0.000       0.084       0.120\n",
      "amount_tsh     0.0003   1.24e-05     20.967      0.000       0.000       0.000\n",
      "population  6.778e-05   1.84e-05      3.686      0.000    3.17e-05       0.000\n",
      "==============================================================================\n",
      "\n",
      "Odds Ratios\n",
      "Intercept     1.107631\n",
      "amount_tsh    1.000261\n",
      "population    1.000068\n",
      "dtype: float64\n",
      "            Lower CI  Upper CI        OR\n",
      "Intercept   1.087930  1.127689  1.107631\n",
      "amount_tsh  1.000236  1.000285  1.000261\n",
      "population  1.000032  1.000104  1.000068\n",
      "Optimization terminated successfully.\n",
      "         Current function value: 0.658848\n",
      "         Iterations 7\n",
      "                           Logit Regression Results                           \n",
      "==============================================================================\n",
      "Dep. Variable:         non_functional   No. Observations:                59400\n",
      "Model:                          Logit   Df Residuals:                    59397\n",
      "Method:                           MLE   Df Model:                            2\n",
      "Date:                Mon, 04 Dec 2017   Pseudo R-squ.:                 0.01089\n",
      "Time:                        10:05:18   Log-Likelihood:                -39136.\n",
      "converged:                       True   LL-Null:                       -39567.\n",
      "                                        LLR p-value:                7.202e-188\n",
      "==============================================================================\n",
      "                 coef    std err          z      P>|z|      [0.025      0.975]\n",
      "------------------------------------------------------------------------------\n",
      "Intercept     -0.3910      0.009    -41.639      0.000      -0.409      -0.373\n",
      "amount_tsh    -0.0003   1.57e-05    -22.214      0.000      -0.000      -0.000\n",
      "population  -6.39e-05   1.91e-05     -3.341      0.001      -0.000   -2.64e-05\n",
      "==============================================================================\n",
      "\n",
      "Odds Ratios\n",
      "Intercept     0.676357\n",
      "amount_tsh    0.999652\n",
      "population    0.999936\n",
      "dtype: float64\n",
      "            Lower CI  Upper CI        OR\n",
      "Intercept   0.664022  0.688922  0.676357\n",
      "amount_tsh  0.999622  0.999683  0.999652\n",
      "population  0.999899  0.999974  0.999936\n",
      "Optimization terminated successfully.\n",
      "         Current function value: 0.260488\n",
      "         Iterations 7\n",
      "                              Logit Regression Results                             \n",
      "===================================================================================\n",
      "Dep. Variable:     functional_needs_repair   No. Observations:                59400\n",
      "Model:                               Logit   Df Residuals:                    59397\n",
      "Method:                                MLE   Df Model:                            2\n",
      "Date:                     Mon, 04 Dec 2017   Pseudo R-squ.:               7.847e-05\n",
      "Time:                             10:05:19   Log-Likelihood:                -15473.\n",
      "converged:                            True   LL-Null:                       -15474.\n",
      "                                             LLR p-value:                    0.2969\n",
      "==============================================================================\n",
      "                 coef    std err          z      P>|z|      [0.025      0.975]\n",
      "------------------------------------------------------------------------------\n",
      "Intercept     -2.5389      0.017   -147.947      0.000      -2.572      -2.505\n",
      "amount_tsh -1.108e-05   9.51e-06     -1.166      0.244   -2.97e-05    7.55e-06\n",
      "population  -2.38e-05   3.55e-05     -0.671      0.502   -9.33e-05    4.57e-05\n",
      "==============================================================================\n",
      "\n",
      "Odds Ratios\n",
      "Intercept     0.078957\n",
      "amount_tsh    0.999989\n",
      "population    0.999976\n",
      "dtype: float64\n",
      "            Lower CI  Upper CI        OR\n",
      "Intercept   0.076345  0.081658  0.078957\n",
      "amount_tsh  0.999970  1.000008  0.999989\n",
      "population  0.999907  1.000046  0.999976\n"
     ]
    }
   ],
   "source": [
    "for i in yvals:\n",
    "    lreg1 = smf.logit(formula = i + '~ amount_tsh + population', data = featuresdf).fit()\n",
    "    \n",
    "    print (lreg1.summary())\n",
    "    print('')\n",
    "    \n",
    "    # odds ratios\n",
    "    print (\"Odds Ratios\")\n",
    "    print (np.exp(lreg1.params))\n",
    "    \n",
    "    # odd ratios with 95% confidence intervals\n",
    "    params = lreg1.params\n",
    "    conf = lreg1.conf_int()\n",
    "    conf['OR'] = params\n",
    "    conf.columns = ['Lower CI', 'Upper CI', 'OR']\n",
    "    print (np.exp(conf))"
   ]
  }
 ],
 "metadata": {
  "kernelspec": {
   "display_name": "Python 3",
   "language": "python",
   "name": "python3"
  },
  "language_info": {
   "codemirror_mode": {
    "name": "ipython",
    "version": 3
   },
   "file_extension": ".py",
   "mimetype": "text/x-python",
   "name": "python",
   "nbconvert_exporter": "python",
   "pygments_lexer": "ipython3",
   "version": "3.6.0"
  }
 },
 "nbformat": 4,
 "nbformat_minor": 2
}
